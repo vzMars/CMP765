{
  "nbformat": 4,
  "nbformat_minor": 0,
  "metadata": {
    "colab": {
      "provenance": [],
      "collapsed_sections": [
        "FkI0kyPkuuIx",
        "yzTmHmCvu4BN",
        "26GGonIJvZTZ",
        "_N9VYHSPu7QG",
        "A15kndiOu7Zn"
      ],
      "include_colab_link": true
    },
    "kernelspec": {
      "name": "python3",
      "display_name": "Python 3"
    }
  },
  "cells": [
    {
      "cell_type": "markdown",
      "metadata": {
        "id": "view-in-github",
        "colab_type": "text"
      },
      "source": [
        "<a href=\"https://colab.research.google.com/github/vzMars/CMP765/blob/main/Week01_PythonIntro.ipynb\" target=\"_parent\"><img src=\"https://colab.research.google.com/assets/colab-badge.svg\" alt=\"Open In Colab\"/></a>"
      ]
    },
    {
      "cell_type": "markdown",
      "metadata": {
        "id": "wY8eYMoyCHrm"
      },
      "source": [
        "# Week 1 Introduction to Python"
      ]
    },
    {
      "cell_type": "markdown",
      "metadata": {
        "id": "0Uu0-9HUSq1o"
      },
      "source": [
        "## Google Colaboratory\n",
        "\n",
        "Colab, or \"Colaboratory\", allows you to write and execute Python in your browser, with\n",
        "- Zero configuration required\n",
        "- Access to GPUs free of charge\n",
        "- Easy sharing\n",
        "\n",
        "The document you are reading is not a static web page, but an interactive environment called a **Colab notebook** that lets you write and execute code.\n",
        "\n",
        "**Alternatively**, you may download and run this file on your own machine with [Anaconda Distribution for Python](https://www.anaconda.com/download)"
      ]
    },
    {
      "cell_type": "markdown",
      "metadata": {
        "id": "s_E3iNYwStz3"
      },
      "source": [
        "## Python Tutorial"
      ]
    },
    {
      "cell_type": "markdown",
      "metadata": {
        "id": "FkI0kyPkuuIx"
      },
      "source": [
        "### 1. Hello World in Colab\n"
      ]
    },
    {
      "cell_type": "markdown",
      "source": [
        "The cell below is an example of a **code cell**. To execute the code in the cell, select it with a click and then either press the play button to the left of the code, or use the keyboard shortcut \"Command/Ctrl+Enter\". To edit the code, just click the cell and start editing.\n",
        "\n",
        "The texts are contained in a **text cell**, which can also include images, HTML, LaTex. Text cells are used to document the code and share additional information with co-workers. You may click the text and edit it."
      ],
      "metadata": {
        "id": "voJmcyIssYe5"
      }
    },
    {
      "cell_type": "code",
      "metadata": {
        "id": "tCMTrQxUAeJn",
        "colab": {
          "base_uri": "https://localhost:8080/"
        },
        "outputId": "ee2ec451-4777-4876-95f6-227ad39d1039"
      },
      "source": [
        "# This prints Hello World\n",
        "print(\"Hello World\")"
      ],
      "execution_count": null,
      "outputs": [
        {
          "output_type": "stream",
          "name": "stdout",
          "text": [
            "Hello World\n"
          ]
        }
      ]
    },
    {
      "cell_type": "markdown",
      "source": [
        "Click the \"+ Code\" or \"+ Text\" icon to create a new cell. When a cell is active, there are a few icons on the right to manipulate the cell."
      ],
      "metadata": {
        "id": "Jcf9T1P4RrAo"
      }
    },
    {
      "cell_type": "code",
      "source": [
        "# You can also press \"Ctrl + Enter\" to execute the cell.\n",
        "print(\"Result:\", 25 + 26)"
      ],
      "metadata": {
        "colab": {
          "base_uri": "https://localhost:8080/"
        },
        "id": "Hwxt3s1gSCAR",
        "outputId": "32ccd09a-964b-4297-bf50-830ab16a8961"
      },
      "execution_count": null,
      "outputs": [
        {
          "output_type": "stream",
          "name": "stdout",
          "text": [
            "Result: 51\n"
          ]
        }
      ]
    },
    {
      "cell_type": "markdown",
      "metadata": {
        "id": "yzTmHmCvu4BN"
      },
      "source": [
        "### 2. Variables\n",
        "- Declaration\n",
        "- Type"
      ]
    },
    {
      "cell_type": "code",
      "metadata": {
        "id": "YfsURQ1dAi1E",
        "colab": {
          "base_uri": "https://localhost:8080/"
        },
        "outputId": "5a779e0c-0959-4428-e0b6-b4d78a32b785"
      },
      "source": [
        "# Variables\n",
        "a = 4\n",
        "b = 11\n",
        "print(a + b)"
      ],
      "execution_count": null,
      "outputs": [
        {
          "output_type": "stream",
          "name": "stdout",
          "text": [
            "15\n"
          ]
        }
      ]
    },
    {
      "cell_type": "code",
      "metadata": {
        "id": "C2LGIQcFC27Z",
        "colab": {
          "base_uri": "https://localhost:8080/",
          "height": 214
        },
        "outputId": "4a8b6b1e-2531-402e-f574-7b00a461816d"
      },
      "source": [
        "# Type is important in python\n",
        "a2 = \"4\"\n",
        "print(a2 + b)"
      ],
      "execution_count": null,
      "outputs": [
        {
          "output_type": "error",
          "ename": "TypeError",
          "evalue": "can only concatenate str (not \"int\") to str",
          "traceback": [
            "\u001b[0;31m---------------------------------------------------------------------------\u001b[0m",
            "\u001b[0;31mTypeError\u001b[0m                                 Traceback (most recent call last)",
            "\u001b[0;32m<ipython-input-5-cdc774002ef9>\u001b[0m in \u001b[0;36m<cell line: 3>\u001b[0;34m()\u001b[0m\n\u001b[1;32m      1\u001b[0m \u001b[0;31m# Type is important in python\u001b[0m\u001b[0;34m\u001b[0m\u001b[0;34m\u001b[0m\u001b[0m\n\u001b[1;32m      2\u001b[0m \u001b[0ma2\u001b[0m \u001b[0;34m=\u001b[0m \u001b[0;34m\"4\"\u001b[0m\u001b[0;34m\u001b[0m\u001b[0;34m\u001b[0m\u001b[0m\n\u001b[0;32m----> 3\u001b[0;31m \u001b[0mprint\u001b[0m\u001b[0;34m(\u001b[0m\u001b[0ma2\u001b[0m \u001b[0;34m+\u001b[0m \u001b[0mb\u001b[0m\u001b[0;34m)\u001b[0m\u001b[0;34m\u001b[0m\u001b[0;34m\u001b[0m\u001b[0m\n\u001b[0m",
            "\u001b[0;31mTypeError\u001b[0m: can only concatenate str (not \"int\") to str"
          ]
        }
      ]
    },
    {
      "cell_type": "code",
      "metadata": {
        "id": "Sgw-YIE8DLJY",
        "colab": {
          "base_uri": "https://localhost:8080/"
        },
        "outputId": "d410f1af-9ad3-4072-ad75-645142e9e4a3"
      },
      "source": [
        "# Show the type of a variable\n",
        "print(type(a))\n",
        "print(type(a2))"
      ],
      "execution_count": null,
      "outputs": [
        {
          "output_type": "stream",
          "name": "stdout",
          "text": [
            "<class 'int'>\n",
            "<class 'str'>\n"
          ]
        }
      ]
    },
    {
      "cell_type": "code",
      "metadata": {
        "id": "yb2K09jcDfQr",
        "colab": {
          "base_uri": "https://localhost:8080/"
        },
        "outputId": "b1a5c353-6d3d-4c55-bd36-9f3b9cb5917e"
      },
      "source": [
        "c = 1.5\n",
        "d = True\n",
        "print(type(c))\n",
        "print(type(d))"
      ],
      "execution_count": null,
      "outputs": [
        {
          "output_type": "stream",
          "name": "stdout",
          "text": [
            "<class 'float'>\n",
            "<class 'bool'>\n"
          ]
        }
      ]
    },
    {
      "cell_type": "code",
      "metadata": {
        "id": "gcqBEYZbDs7Y",
        "colab": {
          "base_uri": "https://localhost:8080/"
        },
        "outputId": "fd5da841-2272-4c26-eb4f-c2faaec626c1"
      },
      "source": [
        "type(float(a))"
      ],
      "execution_count": null,
      "outputs": [
        {
          "output_type": "execute_result",
          "data": {
            "text/plain": [
              "float"
            ]
          },
          "metadata": {},
          "execution_count": 8
        }
      ]
    },
    {
      "cell_type": "markdown",
      "metadata": {
        "id": "26GGonIJvZTZ"
      },
      "source": [
        "### 3. Arithmetics"
      ]
    },
    {
      "cell_type": "code",
      "metadata": {
        "id": "GvHIWSggD5A-",
        "colab": {
          "base_uri": "https://localhost:8080/"
        },
        "outputId": "5269d9e2-2acd-4c35-b1fb-4115be475335"
      },
      "source": [
        "# Arithmetics\n",
        "# +, -, *, /\n",
        "# Integer division\n",
        "print(4 / 3) # gives a floating point number\n",
        "print(4 // 3) # double division always give an integer\n",
        "# Get remainder\n",
        "print(5 % 3) # give the remainder of integer division\n",
        "# Power\n",
        "print(3 ** 2) # represents 3 to the power of 2 = 9\n",
        "print(3 ** (1/2)) # square root of 3"
      ],
      "execution_count": null,
      "outputs": [
        {
          "output_type": "stream",
          "name": "stdout",
          "text": [
            "1.3333333333333333\n",
            "1\n",
            "2\n",
            "9\n",
            "1.7320508075688772\n"
          ]
        }
      ]
    },
    {
      "cell_type": "markdown",
      "metadata": {
        "id": "cao_PEgTFdAN"
      },
      "source": [
        "Exercise: quadratic formula:\n",
        "\n",
        "$x = \\frac{-b \\pm \\sqrt{b^2 - 4ac}}{2a}$"
      ]
    },
    {
      "cell_type": "code",
      "metadata": {
        "id": "GMNNPsPuFuIz",
        "colab": {
          "base_uri": "https://localhost:8080/"
        },
        "outputId": "42ee3f85-5260-4f10-dcf3-d2b331f7bf2e"
      },
      "source": [
        "a = 1\n",
        "b = 2\n",
        "c = -3\n",
        "\n",
        "# Ex. Use the quadratoc formula to find the solutions to ax^2 + bx + c = 0.\n",
        "x1 = (-1 * b + ((b ** 2 - 4 * a * c) ** (1/2))) / (2 * a)\n",
        "x2 = (-1 * b - ((b ** 2 - 4 * a * c) ** (1/2))) / (2 * a)\n",
        "print(x1, x2)"
      ],
      "execution_count": null,
      "outputs": [
        {
          "output_type": "stream",
          "name": "stdout",
          "text": [
            "1.0 -3.0\n"
          ]
        }
      ]
    },
    {
      "cell_type": "markdown",
      "metadata": {
        "id": "_N9VYHSPu7QG"
      },
      "source": [
        "### 4. Assignment Operators"
      ]
    },
    {
      "cell_type": "code",
      "metadata": {
        "id": "Nul9PyctFUVu",
        "colab": {
          "base_uri": "https://localhost:8080/"
        },
        "outputId": "eb67b1b1-d35e-4543-daf3-8bf9e39a96bc"
      },
      "source": [
        "a = 1\n",
        "a += 1 # a = a + 1\n",
        "print(a)\n",
        "b, c, d = 2, 3, 4\n",
        "b -= 5\n",
        "c *= 10\n",
        "d /= 2\n",
        "print(b, c, d)"
      ],
      "execution_count": null,
      "outputs": [
        {
          "output_type": "stream",
          "name": "stdout",
          "text": [
            "2\n",
            "-3 30 2.0\n"
          ]
        }
      ]
    },
    {
      "cell_type": "markdown",
      "metadata": {
        "id": "A15kndiOu7Zn"
      },
      "source": [
        "### 5. Logical Operators"
      ]
    },
    {
      "cell_type": "code",
      "metadata": {
        "id": "KDAort5xF2QV",
        "colab": {
          "base_uri": "https://localhost:8080/"
        },
        "outputId": "62414481-576c-472a-8f1e-d63fcc130884"
      },
      "source": [
        "t, f = True, False\n",
        "print(t, f)"
      ],
      "execution_count": null,
      "outputs": [
        {
          "output_type": "stream",
          "name": "stdout",
          "text": [
            "True False\n"
          ]
        }
      ]
    },
    {
      "cell_type": "code",
      "metadata": {
        "id": "m8kCogzcGAtJ",
        "colab": {
          "base_uri": "https://localhost:8080/"
        },
        "outputId": "4fad601b-61b3-498a-8cbd-7e331b4327ec"
      },
      "source": [
        "print(True or False) # \"or\" means or\n",
        "print(True and False) # \"and\" means and\n",
        "print(not True)\n",
        "print(not False)"
      ],
      "execution_count": null,
      "outputs": [
        {
          "output_type": "stream",
          "name": "stdout",
          "text": [
            "True\n",
            "False\n",
            "False\n",
            "True\n"
          ]
        }
      ]
    },
    {
      "cell_type": "code",
      "metadata": {
        "id": "VHlukoO9GYKV",
        "colab": {
          "base_uri": "https://localhost:8080/"
        },
        "outputId": "7f117729-8ab6-4267-cdc8-6927f3f2015b"
      },
      "source": [
        "# Comparisons: >, <, ==, !=, >=, <=\n",
        "exp1 = (a > 5) and (b < 3)\n",
        "print(a, b, exp1)"
      ],
      "execution_count": null,
      "outputs": [
        {
          "output_type": "stream",
          "name": "stdout",
          "text": [
            "2 -3 False\n"
          ]
        }
      ]
    },
    {
      "cell_type": "markdown",
      "source": [
        "## 6. Strings.\n",
        "Both `\"\"` and `''` can be used to define strings in Python."
      ],
      "metadata": {
        "id": "bZqBGLvLH68s"
      }
    },
    {
      "cell_type": "code",
      "metadata": {
        "id": "i68OFRA7GxWy",
        "colab": {
          "base_uri": "https://localhost:8080/"
        },
        "outputId": "b6b32e50-22e1-428e-c60c-cc1dd7505b6f"
      },
      "source": [
        "str1 = \"Hello\"\n",
        "str2 = 'World'\n",
        "str3 = '3'\n",
        "print(type(str3))\n",
        "print(str1 + str2 + str3) # Use \"+\" to concatenate strings\n",
        "print(\"My \\n Name \\n Is \\t Liang.\")"
      ],
      "execution_count": null,
      "outputs": [
        {
          "output_type": "stream",
          "name": "stdout",
          "text": [
            "<class 'str'>\n",
            "HelloWorld3\n",
            "My \n",
            " Name \n",
            " Is \t Liang.\n"
          ]
        }
      ]
    },
    {
      "cell_type": "code",
      "source": [
        "print('I said \"Good Morning\"') # If the string contains \"\", then use '' to define the string\n",
        "print(\"I said \\\"Good Morning\\\"\")"
      ],
      "metadata": {
        "id": "pFaGQG2ZHskZ",
        "colab": {
          "base_uri": "https://localhost:8080/"
        },
        "outputId": "aba8b66b-de8c-48b3-c70e-d7271bde4fc6"
      },
      "execution_count": null,
      "outputs": [
        {
          "output_type": "stream",
          "name": "stdout",
          "text": [
            "I said \"Good Morning\"\n",
            "I said \"Good Morning\"\n"
          ]
        }
      ]
    },
    {
      "cell_type": "code",
      "metadata": {
        "id": "_Gnmou2bH1ac",
        "colab": {
          "base_uri": "https://localhost:8080/"
        },
        "outputId": "02e1e97b-0c8d-4f55-98a1-86b5fea745a1"
      },
      "source": [
        "# Remove extra space at the beginning and the end of a string\n",
        "data_value = \"     Liang Zhao     \"\n",
        "my_name = \"Liang Zhao\"\n",
        "print(data_value == my_name)\n",
        "print(data_value.strip())\n",
        "print(data_value.strip() == my_name)"
      ],
      "execution_count": null,
      "outputs": [
        {
          "output_type": "stream",
          "name": "stdout",
          "text": [
            "False\n",
            "Liang Zhao\n",
            "True\n"
          ]
        }
      ]
    },
    {
      "cell_type": "code",
      "metadata": {
        "id": "ScTAukHDIbXE",
        "colab": {
          "base_uri": "https://localhost:8080/"
        },
        "outputId": "bbf145dd-c36a-4689-ab0a-209a8d7c23fc"
      },
      "source": [
        "# Split a string\n",
        "file_names = \"Alex, Bob, Clare, David\"\n",
        "file_names.split(\", \")"
      ],
      "execution_count": null,
      "outputs": [
        {
          "output_type": "execute_result",
          "data": {
            "text/plain": [
              "['Alex', 'Bob', 'Clare', 'David']"
            ]
          },
          "metadata": {},
          "execution_count": 29
        }
      ]
    },
    {
      "cell_type": "code",
      "metadata": {
        "id": "qoU3Y1bhI-Bv",
        "colab": {
          "base_uri": "https://localhost:8080/"
        },
        "outputId": "a7205e10-0df4-4d10-eb21-1578ea3d73c4"
      },
      "source": [
        "# String formatting\n",
        "float_num = 45.67898765\n",
        "print(float_num)\n",
        "print(\"%5.2f\" % (float_num))\n",
        "formatted_string = \"Name: %10s | Score: %5d | Value: %.2f\" % (\"Alex\", 89, 12.345)\n",
        "print(formatted_string)\n",
        "formatted_string = \"Name: %10s | Score: %5d | Value: %.2f\" % (\"Bob\", 9, 543.21)\n",
        "print(formatted_string)"
      ],
      "execution_count": null,
      "outputs": [
        {
          "output_type": "stream",
          "name": "stdout",
          "text": [
            "45.67898765\n",
            "45.68\n",
            "Name:       Alex | Score:    89 | Value: 12.35\n",
            "Name:        Bob | Score:     9 | Value: 543.21\n"
          ]
        }
      ]
    },
    {
      "cell_type": "markdown",
      "metadata": {
        "id": "KSE9jRDPu7pM"
      },
      "source": [
        "### 7. Basic Data Structures\n",
        "- List\n",
        "- Set\n",
        "- Tuple\n",
        "- Dictionary"
      ]
    },
    {
      "cell_type": "code",
      "metadata": {
        "id": "ABsE-J47KuLg",
        "colab": {
          "base_uri": "https://localhost:8080/"
        },
        "outputId": "98138403-4810-457b-d1bb-29ac66edf0b6"
      },
      "source": [
        "# List\n",
        "list1 = [1, 2, 3, 4, 6.5, \"Monday\", True]\n",
        "print(list1)\n",
        "list1.append(12)\n",
        "print(list1)\n",
        "val = list1.pop()\n",
        "print(val)\n",
        "print(list1)"
      ],
      "execution_count": null,
      "outputs": [
        {
          "output_type": "stream",
          "name": "stdout",
          "text": [
            "[1, 2, 3, 4, 6.5, 'Monday', True]\n",
            "[1, 2, 3, 4, 6.5, 'Monday', True, 12]\n",
            "12\n",
            "[1, 2, 3, 4, 6.5, 'Monday', True]\n"
          ]
        }
      ]
    },
    {
      "cell_type": "code",
      "metadata": {
        "id": "MFjPSyvmLfuK",
        "colab": {
          "base_uri": "https://localhost:8080/"
        },
        "outputId": "853a521a-04bd-4269-86da-79229a7d5d47"
      },
      "source": [
        "# Indexing\n",
        "print(list1[0])\n",
        "print(list1[1])\n",
        "print(list1[-1])\n",
        "print(list1[-2])\n",
        "print(list1[2:5]) # the second index is exclusive\n",
        "print(list1[:5]) # omitting the first index means starting from 0\n",
        "print(list1[2:]) # omitting the second index means going to the end\n",
        "print(list1[:])"
      ],
      "execution_count": null,
      "outputs": [
        {
          "output_type": "stream",
          "name": "stdout",
          "text": [
            "1\n",
            "2\n",
            "True\n",
            "Monday\n",
            "[3, 4, 6.5]\n",
            "[1, 2, 3, 4, 6.5]\n",
            "[3, 4, 6.5, 'Monday', True]\n",
            "[1, 2, 3, 4, 6.5, 'Monday', True]\n"
          ]
        }
      ]
    },
    {
      "cell_type": "code",
      "metadata": {
        "id": "NDHetq2hM7HX",
        "colab": {
          "base_uri": "https://localhost:8080/"
        },
        "outputId": "25c1b717-58fd-4b2e-bed0-95bb47bced15"
      },
      "source": [
        "len(list1)"
      ],
      "execution_count": null,
      "outputs": [
        {
          "output_type": "execute_result",
          "data": {
            "text/plain": [
              "7"
            ]
          },
          "metadata": {},
          "execution_count": 33
        }
      ]
    },
    {
      "cell_type": "code",
      "metadata": {
        "id": "X1zlhD-kM-iM",
        "colab": {
          "base_uri": "https://localhost:8080/"
        },
        "outputId": "032b79e9-6d1d-43c3-e958-947265071fd6"
      },
      "source": [
        "# Set\n",
        "set1 = {1, 2, 3, 3, 2, 1}\n",
        "print(set1)"
      ],
      "execution_count": null,
      "outputs": [
        {
          "output_type": "stream",
          "name": "stdout",
          "text": [
            "{1, 2, 3}\n"
          ]
        }
      ]
    },
    {
      "cell_type": "code",
      "metadata": {
        "id": "pBMpWDYlNO6H",
        "colab": {
          "base_uri": "https://localhost:8080/",
          "height": 214
        },
        "outputId": "6c418d72-4b38-4f4c-d9f7-8fd14862100f"
      },
      "source": [
        "# Tuple\n",
        "tuple1 = (1, 2, 3)\n",
        "\n",
        "# tuples are immutable\n",
        "tuple1[2] = 5 # invalid statement"
      ],
      "execution_count": null,
      "outputs": [
        {
          "output_type": "error",
          "ename": "TypeError",
          "evalue": "'tuple' object does not support item assignment",
          "traceback": [
            "\u001b[0;31m---------------------------------------------------------------------------\u001b[0m",
            "\u001b[0;31mTypeError\u001b[0m                                 Traceback (most recent call last)",
            "\u001b[0;32m<ipython-input-35-bb017ea5b140>\u001b[0m in \u001b[0;36m<cell line: 5>\u001b[0;34m()\u001b[0m\n\u001b[1;32m      3\u001b[0m \u001b[0;34m\u001b[0m\u001b[0m\n\u001b[1;32m      4\u001b[0m \u001b[0;31m# tuples are immutable\u001b[0m\u001b[0;34m\u001b[0m\u001b[0;34m\u001b[0m\u001b[0m\n\u001b[0;32m----> 5\u001b[0;31m \u001b[0mtuple1\u001b[0m\u001b[0;34m[\u001b[0m\u001b[0;36m2\u001b[0m\u001b[0;34m]\u001b[0m \u001b[0;34m=\u001b[0m \u001b[0;36m5\u001b[0m \u001b[0;31m# invalid statement\u001b[0m\u001b[0;34m\u001b[0m\u001b[0;34m\u001b[0m\u001b[0m\n\u001b[0m",
            "\u001b[0;31mTypeError\u001b[0m: 'tuple' object does not support item assignment"
          ]
        }
      ]
    },
    {
      "cell_type": "code",
      "metadata": {
        "id": "8lRPCt9KNftU",
        "colab": {
          "base_uri": "https://localhost:8080/"
        },
        "outputId": "940f50d5-a481-43c0-ba59-03b5b3717ee5"
      },
      "source": [
        "# Dictionary: (key, value)\n",
        "dict1 = {\"Alex\": \"A\",\n",
        "         \"Bob\": \"B\",\n",
        "         \"Clare\": \"C\"}\n",
        "print(dict1['Alex'])\n",
        "print(dict1['Clare'])"
      ],
      "execution_count": null,
      "outputs": [
        {
          "output_type": "stream",
          "name": "stdout",
          "text": [
            "A\n",
            "C\n"
          ]
        }
      ]
    },
    {
      "cell_type": "markdown",
      "metadata": {
        "id": "bVgPhOdnu7wg"
      },
      "source": [
        "\n",
        "### 8. Loops and Branches\n"
      ]
    },
    {
      "cell_type": "code",
      "metadata": {
        "id": "sYd1zvs0OnCa",
        "colab": {
          "base_uri": "https://localhost:8080/"
        },
        "outputId": "78bae7b3-a7b0-4a99-c183-68a23cd5f3d2"
      },
      "source": [
        "names = ['Alex', 'Bob', 'Clare']\n",
        "for name in names: # for (variable) in (list of values):\n",
        "    print(name, dict1[name]) # Use indentation (4 spaces) to indicate the loop body"
      ],
      "execution_count": null,
      "outputs": [
        {
          "output_type": "stream",
          "name": "stdout",
          "text": [
            "Alex A\n",
            "Bob B\n",
            "Clare C\n"
          ]
        }
      ]
    },
    {
      "cell_type": "code",
      "source": [
        "a = 0\n",
        "while a < 10:\n",
        "    print(a)\n",
        "    a += 1"
      ],
      "metadata": {
        "id": "S5O5u0k7INld",
        "colab": {
          "base_uri": "https://localhost:8080/"
        },
        "outputId": "f173d938-2416-4154-c2de-267865e80ac8"
      },
      "execution_count": null,
      "outputs": [
        {
          "output_type": "stream",
          "name": "stdout",
          "text": [
            "0\n",
            "1\n",
            "2\n",
            "3\n",
            "4\n",
            "5\n",
            "6\n",
            "7\n",
            "8\n",
            "9\n"
          ]
        }
      ]
    },
    {
      "cell_type": "code",
      "metadata": {
        "id": "82ApyVg9OqG6",
        "colab": {
          "base_uri": "https://localhost:8080/"
        },
        "outputId": "7cfafa70-877b-4dfb-c426-63b15f92380b"
      },
      "source": [
        "a = 2\n",
        "if a > 0:\n",
        "    print(\"Greater than zero.\")\n",
        "else:\n",
        "    print(\"Not greater than zero.\")"
      ],
      "execution_count": null,
      "outputs": [
        {
          "output_type": "stream",
          "name": "stdout",
          "text": [
            "Greater than zero.\n"
          ]
        }
      ]
    },
    {
      "cell_type": "code",
      "metadata": {
        "id": "U4cQB9oIO52f",
        "colab": {
          "base_uri": "https://localhost:8080/"
        },
        "outputId": "d26db809-7dff-4685-a365-456f7e9ae23e"
      },
      "source": [
        "a = 2\n",
        "b = 4\n",
        "if a < 0:\n",
        "    print(\"a less than zero\")\n",
        "elif b > 0: # \"elif\" means \"else if\"\n",
        "    print(\"a not less than zero, and b greater than zero\")\n",
        "else:\n",
        "    print(\"neither is greater than zero\")"
      ],
      "execution_count": null,
      "outputs": [
        {
          "output_type": "stream",
          "name": "stdout",
          "text": [
            "a not less than zero, and b greater than zero\n"
          ]
        }
      ]
    },
    {
      "cell_type": "markdown",
      "metadata": {
        "id": "8fWcw5WMu75g"
      },
      "source": [
        "### 9. List Comprehensions"
      ]
    },
    {
      "cell_type": "code",
      "metadata": {
        "id": "Ug_cd-5yPao5",
        "colab": {
          "base_uri": "https://localhost:8080/"
        },
        "outputId": "51bbe186-1fd8-4e82-fa46-f917d1f5dfb9"
      },
      "source": [
        "list1 = [1, 2, 3, 4, 5]\n",
        "# create a list whose values are 10 * values from list1:\n",
        "# Solution 1:\n",
        "list2 = []\n",
        "for elt in list1:\n",
        "    list2.append(10 * elt)\n",
        "print(list2)\n",
        "# Solution 2:\n",
        "list2 = [ (10 * x) for x in list1   ]\n",
        "print(list2)\n",
        "\n",
        "#Example: For each element in list1: change it to 0 if it is negative, remove it if it is greater than 10\n",
        "list1 = [1, -5, 20, 12, 0]\n",
        "# Solution 1:\n",
        "list2 = []\n",
        "for x in list1:\n",
        "    if x < 0:\n",
        "        list2.append(0)\n",
        "    elif x > 10:\n",
        "        continue\n",
        "    else:\n",
        "        list2.append(x)\n",
        "print(list2)"
      ],
      "execution_count": null,
      "outputs": [
        {
          "output_type": "stream",
          "name": "stdout",
          "text": [
            "[10, 20, 30, 40, 50]\n",
            "[10, 20, 30, 40, 50]\n",
            "[1, 0, 0]\n"
          ]
        }
      ]
    },
    {
      "cell_type": "markdown",
      "metadata": {
        "id": "d4rrACaLu8DX"
      },
      "source": [
        "### 10. Functions and Classes"
      ]
    },
    {
      "cell_type": "code",
      "metadata": {
        "id": "gkBO1AkESMO2"
      },
      "source": [
        "def sum_of_list(list1):\n",
        "    sum = 0\n",
        "    for x in list1:\n",
        "        sum += x\n",
        "    return sum"
      ],
      "execution_count": null,
      "outputs": []
    },
    {
      "cell_type": "code",
      "metadata": {
        "id": "oO9qcwz9SeTX",
        "colab": {
          "base_uri": "https://localhost:8080/"
        },
        "outputId": "3db07afc-14e7-4a3f-f5a8-8aa05313f73b"
      },
      "source": [
        "sum_of_list(list1)"
      ],
      "execution_count": null,
      "outputs": [
        {
          "output_type": "execute_result",
          "data": {
            "text/plain": [
              "28"
            ]
          },
          "metadata": {},
          "execution_count": 46
        }
      ]
    },
    {
      "cell_type": "code",
      "metadata": {
        "id": "F6ExJvmbv5nN"
      },
      "source": [
        "#  A function can return multiple values\n",
        "def sum_and_product(list1):\n",
        "    sum = 0\n",
        "    product = 1\n",
        "    for x in list1:\n",
        "        sum += x\n",
        "        product *= x\n",
        "    return sum, product"
      ],
      "execution_count": null,
      "outputs": []
    },
    {
      "cell_type": "code",
      "metadata": {
        "id": "FtKnOuJjSt04",
        "colab": {
          "base_uri": "https://localhost:8080/"
        },
        "outputId": "8584da35-94f2-43f3-9e2f-a142d7e8ee52"
      },
      "source": [
        "list1_sum, list1_product = sum_and_product(list1)\n",
        "print(list1_sum, list1_product)"
      ],
      "execution_count": null,
      "outputs": [
        {
          "output_type": "stream",
          "name": "stdout",
          "text": [
            "28 0\n"
          ]
        }
      ]
    },
    {
      "cell_type": "code",
      "metadata": {
        "id": "qENq27qvS3Mm"
      },
      "source": [
        "def implicit_list_mod(list1):\n",
        "    list1[0] = 100"
      ],
      "execution_count": null,
      "outputs": []
    },
    {
      "cell_type": "code",
      "metadata": {
        "id": "qS2e2oZTTCg-",
        "colab": {
          "base_uri": "https://localhost:8080/"
        },
        "outputId": "faedfc56-a579-496a-fdb1-8dda5e9a38cb"
      },
      "source": [
        "implicit_list_mod(list1) # lists are passed in by reference\n",
        "print(list1)"
      ],
      "execution_count": null,
      "outputs": [
        {
          "output_type": "stream",
          "name": "stdout",
          "text": [
            "[100, -5, 20, 12, 0]\n"
          ]
        }
      ]
    },
    {
      "cell_type": "code",
      "metadata": {
        "id": "Gc-u3xc2TWS3"
      },
      "source": [
        "# Some parameters can have default values.\n",
        "def addition(x, y=1):\n",
        "    return x + y"
      ],
      "execution_count": null,
      "outputs": []
    },
    {
      "cell_type": "code",
      "metadata": {
        "id": "O8158hRRThMR",
        "colab": {
          "base_uri": "https://localhost:8080/"
        },
        "outputId": "a8e1ac3b-50d6-4c2a-e886-51628c7b7117"
      },
      "source": [
        "print(addition(5, 6))\n",
        "print(addition(10))\n",
        "print(addition(\"123\", \"456\"))"
      ],
      "execution_count": null,
      "outputs": [
        {
          "output_type": "stream",
          "name": "stdout",
          "text": [
            "11\n",
            "11\n",
            "123456\n"
          ]
        }
      ]
    },
    {
      "cell_type": "code",
      "metadata": {
        "id": "5i1jiblnUJwD"
      },
      "source": [
        "class Student:\n",
        "\n",
        "    def __init__(self, name, age):\n",
        "        self.name = name\n",
        "        self.age = age\n",
        "\n",
        "    def print(self):\n",
        "        print(self.name, \" \", self.age)"
      ],
      "execution_count": null,
      "outputs": []
    },
    {
      "cell_type": "code",
      "metadata": {
        "id": "eypetCdTUo05",
        "colab": {
          "base_uri": "https://localhost:8080/"
        },
        "outputId": "f3e1a9e7-38dd-4e09-fe5d-3f0e2d7012bc"
      },
      "source": [
        "student1 = Student(\"Alex\", 15)\n",
        "student1.print()"
      ],
      "execution_count": null,
      "outputs": [
        {
          "output_type": "stream",
          "name": "stdout",
          "text": [
            "Alex   15\n"
          ]
        }
      ]
    },
    {
      "cell_type": "markdown",
      "source": [
        "## Exercise: Intelligent Agent\n",
        "\n",
        "An **agent** is anything that can be viewed as perceiving its environment through sensors and\n",
        "acting upon that environment. Let's create an intelligent agent that can navigate through a grid world to reach a target while avoiding obstacles."
      ],
      "metadata": {
        "id": "yPbXiNKJ7N6K"
      }
    },
    {
      "cell_type": "markdown",
      "source": [
        "### Task 1: Environment Setup\n",
        "\n",
        "Write a function `create_environment(num_rows, num_cols, num_obstacles)` to create a 2D list as the environment for the agent. The grid should consist of cells, some of which are obstacles (marked as \"X\") and one of which is the target (marked as \"T\"). You can represent the grid as a 2D list.\n",
        "- `num_rows` represents the number of rows.\n",
        "- `num_cols` represents the number of columns.\n",
        "- `num_obstacles` represents the number of cells that are obstacles. The function should randomly select the row index and column index for the obstacle cells using [`numpy.random.randint`](https://numpy.org/doc/stable/reference/random/generated/numpy.random.randint.html)\n",
        "- The target cell always appears at the lower-right corner.\n",
        "- The function should return the 2D list in the end."
      ],
      "metadata": {
        "id": "Qwlq-8rtDNpe"
      }
    },
    {
      "cell_type": "code",
      "source": [
        "import numpy\n",
        "\n",
        "def create_environment(num_rows, num_cols, num_obstacles):\n",
        "    # Step 1: Create a 2D list filled with '-'\n",
        "    grid = []\n",
        "\n",
        "    for row_index in range(num_rows):\n",
        "        row = []\n",
        "        for col_index in range(num_cols):\n",
        "            row.append('-')\n",
        "        grid.append(row)\n",
        "\n",
        "    # Step 2: Add the target\n",
        "    grid[-1][-1] = 'T'\n",
        "\n",
        "    # Step 3: Add random obstacles\n",
        "    obstacles_placed = 0\n",
        "    while obstacles_placed < num_obstacles:\n",
        "        row_index = numpy.random.randint(num_rows)\n",
        "        col_index = numpy.random.randint(num_cols)\n",
        "\n",
        "        if row_index == 0 and col_index == 0:\n",
        "            continue\n",
        "\n",
        "        if grid[row_index][col_index] == '-':\n",
        "            grid[row_index][col_index] = 'X'\n",
        "            obstacles_placed += 1\n",
        "\n",
        "    # Step 4: Return the grid\n",
        "    return grid\n",
        "\n",
        "def show_grid(grid):\n",
        "    for row in grid:\n",
        "        for col in row:\n",
        "          print(col, end=\" \")\n",
        "        print()"
      ],
      "metadata": {
        "id": "UWkVvDioErLs"
      },
      "execution_count": 206,
      "outputs": []
    },
    {
      "cell_type": "markdown",
      "source": [
        "### Task 2: Agent Class\n",
        "\n",
        "Create a class `Agent` that represents the intelligent agent.\n",
        "\n",
        "**Attributes:**\n",
        "- `self.grid`: the environment\n",
        "- `self.position`: the current position of the agent, the starting position should always be the upper-left corner.\n",
        "- `self.target`: the position of the target. The target's position should always be the lower-right corner.\n",
        "\n",
        "**Methods:**\n",
        "- `perceive_environment()`: This method allows the agent to perceive its adjacent cells.\n",
        "- `decide_action()`: Implement a simple decision-making process for your agent to determine the next action (up, down, left, or right).\n",
        "- `take_action()`: Execute the chosen action and update the agent's position on the grid."
      ],
      "metadata": {
        "id": "gLjSTkAQEr4Q"
      }
    },
    {
      "cell_type": "code",
      "source": [
        "class Agent:\n",
        "\n",
        "    def __init__(self, grid):\n",
        "        self.grid = grid\n",
        "        self.position = (0, 0)\n",
        "        self.grid[0][0] = 'A'\n",
        "        self.target = (len(grid) - 1, len(grid[0]) - 1)\n",
        "        self.path = []\n",
        "        self.visited = []\n",
        "\n",
        "    def perceive_environment(self):\n",
        "        if self.position[0] != 0:\n",
        "            up = self.grid[self.position[0] - 1][self.position[1]]\n",
        "        else:\n",
        "            up = 'W'\n",
        "\n",
        "        if self.position[0] + 1 < len(self.grid):\n",
        "            down = self.grid[self.position[0] + 1][self.position[1]]\n",
        "        else:\n",
        "            down = 'W'\n",
        "\n",
        "        if self.position[1] != 0:\n",
        "            left = self.grid[self.position[0]][self.position[1] - 1]\n",
        "        else:\n",
        "            left = 'W'\n",
        "\n",
        "        if self.position[1] + 1 < len(self.grid[0]):\n",
        "            right = self.grid[self.position[0]][self.position[1] + 1]\n",
        "        else:\n",
        "            right = 'W'\n",
        "\n",
        "        return [up, down, left, right]\n",
        "\n",
        "    def decide_action(self):\n",
        "        up, down, left, right = self.perceive_environment()\n",
        "\n",
        "        if right == 'T' or down == 'T' or left == 'T' or right == 'T':\n",
        "            return \"End\"\n",
        "        elif right == '-' and (self.position[0], self.position[1] + 1) not in self.visited:\n",
        "            return 'Right'\n",
        "        elif down == '-' and (self.position[0] + 1, self.position[1]) not in self.visited:\n",
        "            return 'Down'\n",
        "        elif left == '-' and (self.position[0], self.position[1] - 1) not in self.visited:\n",
        "            return 'Left'\n",
        "        elif up == '-' and (self.position[0] - 1, self.position[1]) not in self.visited:\n",
        "            return 'Up'\n",
        "        else:\n",
        "            return 'GoBack'\n",
        "\n",
        "    def take_action(self):\n",
        "        action = self.decide_action()\n",
        "\n",
        "        if action == 'Right' or 'Down' or 'Left' or 'Up' or 'End':\n",
        "            self.grid[self.position[0]][self.position[1]] = '-'\n",
        "\n",
        "        if action == 'Right':\n",
        "            self.position = (self.position[0], self.position[1] + 1)\n",
        "        elif action == 'Down':\n",
        "            self.position = (self.position[0] + 1, self.position[1])\n",
        "        elif action == 'Left':\n",
        "            self.position = (self.position[0], self.position[1] - 1)\n",
        "        elif action == 'Up':\n",
        "            self.position = (self.position[0] - 1, self.position[1])\n",
        "        elif action == 'End':\n",
        "            self.position = self.target\n",
        "        elif action == 'GoBack':\n",
        "            self.path.pop()\n",
        "            if len(self.path) == 0:\n",
        "                self.position = (0, 0)\n",
        "                self.path.append(self.position)\n",
        "            else:\n",
        "                self.position = self.path[-1]\n",
        "\n",
        "        if self.position not in self.visited:\n",
        "            self.visited.append(self.position)\n",
        "\n",
        "        if action == 'Right' or 'Down' or 'Left' or 'Up' or 'End':\n",
        "            self.path.append(self.position)\n",
        "\n",
        "        self.grid[self.position[0]][self.position[1]] = 'A'"
      ],
      "metadata": {
        "id": "GccoBLo1F0uB"
      },
      "execution_count": 207,
      "outputs": []
    },
    {
      "cell_type": "markdown",
      "source": [
        "### Task 3: Agent Evaluation\n",
        "\n",
        "Create a 5x5 grid with 7 obstacles and an instance of the `Agent` class. Simulate the agent's navigation and display the grid at each step to visualize the agent's progress. Use a `for` loop to keep the agent moving until it reaches the target or has taken 100 moves."
      ],
      "metadata": {
        "id": "C1nrzO7GF1PN"
      }
    },
    {
      "cell_type": "code",
      "source": [
        "grid = create_environment(5, 5, 7)\n",
        "agent = Agent(grid)\n",
        "agent.path.append(agent.position)\n",
        "agent.visited.append(agent.position)\n",
        "\n",
        "print('Start:')\n",
        "show_grid(grid)\n",
        "for x in range(100):\n",
        "    agent.take_action()\n",
        "    print()\n",
        "    print('Move: ', x+1)\n",
        "    show_grid(grid)\n",
        "    if agent.position == agent.target:\n",
        "        print()\n",
        "        print('Target reached')\n",
        "        break\n",
        "if agent.position != agent.target:\n",
        "    print()\n",
        "    print('Target not reached')"
      ],
      "metadata": {
        "id": "QeeRr0eNGx41",
        "colab": {
          "base_uri": "https://localhost:8080/"
        },
        "outputId": "4db8ebfc-376d-447c-be29-b7e8ada13fbf"
      },
      "execution_count": 208,
      "outputs": [
        {
          "output_type": "stream",
          "name": "stdout",
          "text": [
            "Start:\n",
            "A - - - - \n",
            "- - X - - \n",
            "X X X - - \n",
            "X X - - - \n",
            "- - X - T \n",
            "\n",
            "Move:  1\n",
            "- A - - - \n",
            "- - X - - \n",
            "X X X - - \n",
            "X X - - - \n",
            "- - X - T \n",
            "\n",
            "Move:  2\n",
            "- - A - - \n",
            "- - X - - \n",
            "X X X - - \n",
            "X X - - - \n",
            "- - X - T \n",
            "\n",
            "Move:  3\n",
            "- - - A - \n",
            "- - X - - \n",
            "X X X - - \n",
            "X X - - - \n",
            "- - X - T \n",
            "\n",
            "Move:  4\n",
            "- - - - A \n",
            "- - X - - \n",
            "X X X - - \n",
            "X X - - - \n",
            "- - X - T \n",
            "\n",
            "Move:  5\n",
            "- - - - - \n",
            "- - X - A \n",
            "X X X - - \n",
            "X X - - - \n",
            "- - X - T \n",
            "\n",
            "Move:  6\n",
            "- - - - - \n",
            "- - X - - \n",
            "X X X - A \n",
            "X X - - - \n",
            "- - X - T \n",
            "\n",
            "Move:  7\n",
            "- - - - - \n",
            "- - X - - \n",
            "X X X - - \n",
            "X X - - A \n",
            "- - X - T \n",
            "\n",
            "Move:  8\n",
            "- - - - - \n",
            "- - X - - \n",
            "X X X - - \n",
            "X X - - - \n",
            "- - X - A \n",
            "\n",
            "Target reached\n"
          ]
        }
      ]
    }
  ]
}