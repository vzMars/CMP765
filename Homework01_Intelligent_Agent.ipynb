{
  "nbformat": 4,
  "nbformat_minor": 0,
  "metadata": {
    "colab": {
      "provenance": [],
      "authorship_tag": "ABX9TyMM9T97RYdZIs3grQC+4t/v",
      "include_colab_link": true
    },
    "kernelspec": {
      "name": "python3",
      "display_name": "Python 3"
    },
    "language_info": {
      "name": "python"
    }
  },
  "cells": [
    {
      "cell_type": "markdown",
      "metadata": {
        "id": "view-in-github",
        "colab_type": "text"
      },
      "source": [
        "<a href=\"https://colab.research.google.com/github/vzMars/CMP765/blob/main/Homework01_Intelligent_Agent.ipynb\" target=\"_parent\"><img src=\"https://colab.research.google.com/assets/colab-badge.svg\" alt=\"Open In Colab\"/></a>"
      ]
    },
    {
      "cell_type": "markdown",
      "source": [
        "## Exercise: Intelligent Agent\n",
        "\n",
        "An **agent** is anything that can be viewed as perceiving its environment through sensors and\n",
        "acting upon that environment. Let's create an intelligent agent that can navigate through a grid world to reach a target while avoiding obstacles."
      ],
      "metadata": {
        "id": "yPbXiNKJ7N6K"
      }
    },
    {
      "cell_type": "markdown",
      "source": [
        "### Task 1: Environment Setup\n",
        "\n",
        "Write a function `create_environment(num_rows, num_cols, num_obstacles)` to create a 2D list as the environment for the agent. The grid should consist of cells, some of which are obstacles (marked as \"X\") and one of which is the target (marked as \"T\"). You can represent the grid as a 2D list.\n",
        "- `num_rows` represents the number of rows.\n",
        "- `num_cols` represents the number of columns.\n",
        "- `num_obstacles` represents the number of cells that are obstacles. The function should randomly select the row index and column index for the obstacle cells using [`numpy.random.randint`](https://numpy.org/doc/stable/reference/random/generated/numpy.random.randint.html)\n",
        "- The target cell always appears at the lower-right corner.\n",
        "- The function should return the 2D list in the end."
      ],
      "metadata": {
        "id": "Qwlq-8rtDNpe"
      }
    },
    {
      "cell_type": "code",
      "source": [
        "import numpy\n",
        "\n",
        "def create_environment(num_rows, num_cols, num_obstacles):\n",
        "    # Step 1: Create a 2D list filled with '-'\n",
        "    grid = []\n",
        "\n",
        "    for row_index in range(num_rows):\n",
        "        row = []\n",
        "        for col_index in range(num_cols):\n",
        "            row.append('-')\n",
        "        grid.append(row)\n",
        "\n",
        "    # Step 2: Add the target\n",
        "    grid[-1][-1] = 'T'\n",
        "\n",
        "    # Step 3: Add random obstacles\n",
        "    obstacles_placed = 0\n",
        "    while obstacles_placed < num_obstacles:\n",
        "        row_index = numpy.random.randint(num_rows)\n",
        "        col_index = numpy.random.randint(num_cols)\n",
        "\n",
        "        if row_index == 0 and col_index == 0:\n",
        "            continue\n",
        "\n",
        "        if grid[row_index][col_index] == '-':\n",
        "            grid[row_index][col_index] = 'X'\n",
        "            obstacles_placed += 1\n",
        "\n",
        "    # Step 4: Return the grid\n",
        "    return grid\n",
        "\n",
        "def show_grid(grid):\n",
        "    for row in grid:\n",
        "        for col in row:\n",
        "          print(col, end=\" \")\n",
        "        print()"
      ],
      "metadata": {
        "id": "UWkVvDioErLs"
      },
      "execution_count": 74,
      "outputs": []
    },
    {
      "cell_type": "markdown",
      "source": [
        "### Task 2: Agent Class\n",
        "\n",
        "Create a class `Agent` that represents the intelligent agent.\n",
        "\n",
        "**Attributes:**\n",
        "- `self.grid`: the environment\n",
        "- `self.position`: the current position of the agent, the starting position should always be the upper-left corner.\n",
        "- `self.target`: the position of the target. The target's position should always be the lower-right corner.\n",
        "\n",
        "**Methods:**\n",
        "- `perceive_environment()`: This method allows the agent to perceive its adjacent cells.\n",
        "- `decide_action()`: Implement a simple decision-making process for your agent to determine the next action (up, down, left, or right).\n",
        "- `take_action()`: Execute the chosen action and update the agent's position on the grid."
      ],
      "metadata": {
        "id": "gLjSTkAQEr4Q"
      }
    },
    {
      "cell_type": "code",
      "source": [
        "class Agent:\n",
        "\n",
        "    def __init__(self, grid):\n",
        "        self.grid = grid\n",
        "        self.position = (0, 0)\n",
        "        self.grid[0][0] = 'A'\n",
        "        self.target = (len(grid) - 1, len(grid[0]) - 1)\n",
        "        self.path = []\n",
        "        self.visited = []\n",
        "\n",
        "    def perceive_environment(self):\n",
        "        if self.position[0] != 0:\n",
        "            up = self.grid[self.position[0] - 1][self.position[1]]\n",
        "        else:\n",
        "            up = 'W'\n",
        "\n",
        "        if self.position[0] + 1 < len(self.grid):\n",
        "            down = self.grid[self.position[0] + 1][self.position[1]]\n",
        "        else:\n",
        "            down = 'W'\n",
        "\n",
        "        if self.position[1] != 0:\n",
        "            left = self.grid[self.position[0]][self.position[1] - 1]\n",
        "        else:\n",
        "            left = 'W'\n",
        "\n",
        "        if self.position[1] + 1 < len(self.grid[0]):\n",
        "            right = self.grid[self.position[0]][self.position[1] + 1]\n",
        "        else:\n",
        "            right = 'W'\n",
        "\n",
        "        return [up, down, left, right]\n",
        "\n",
        "    def decide_action(self):\n",
        "        up, down, left, right = self.perceive_environment()\n",
        "\n",
        "        if right == 'T' or down == 'T' or left == 'T' or right == 'T':\n",
        "            return \"End\"\n",
        "        elif right == '-' and (self.position[0], self.position[1] + 1) not in self.visited:\n",
        "            return 'Right'\n",
        "        elif down == '-' and (self.position[0] + 1, self.position[1]) not in self.visited:\n",
        "            return 'Down'\n",
        "        elif left == '-' and (self.position[0], self.position[1] - 1) not in self.visited:\n",
        "            return 'Left'\n",
        "        elif up == '-' and (self.position[0] - 1, self.position[1]) not in self.visited:\n",
        "            return 'Up'\n",
        "        else:\n",
        "            return 'GoBack'\n",
        "\n",
        "    def take_action(self):\n",
        "        action = self.decide_action()\n",
        "\n",
        "        if action == 'Right' or 'Down' or 'Left' or 'Up' or 'End':\n",
        "            self.grid[self.position[0]][self.position[1]] = '-'\n",
        "\n",
        "        if action == 'Right':\n",
        "            self.position = (self.position[0], self.position[1] + 1)\n",
        "        elif action == 'Down':\n",
        "            self.position = (self.position[0] + 1, self.position[1])\n",
        "        elif action == 'Left':\n",
        "            self.position = (self.position[0], self.position[1] - 1)\n",
        "        elif action == 'Up':\n",
        "            self.position = (self.position[0] - 1, self.position[1])\n",
        "        elif action == 'End':\n",
        "            self.position = self.target\n",
        "        elif action == 'GoBack':\n",
        "            self.path.pop()\n",
        "            if len(self.path) == 0:\n",
        "                self.position = (0, 0)\n",
        "                self.path.append(self.position)\n",
        "            else:\n",
        "                self.position = self.path[-1]\n",
        "\n",
        "        if self.position not in self.visited:\n",
        "            self.visited.append(self.position)\n",
        "\n",
        "        if action == 'Right' or 'Down' or 'Left' or 'Up' or 'End':\n",
        "            self.path.append(self.position)\n",
        "\n",
        "        self.grid[self.position[0]][self.position[1]] = 'A'"
      ],
      "metadata": {
        "id": "GccoBLo1F0uB"
      },
      "execution_count": 75,
      "outputs": []
    },
    {
      "cell_type": "markdown",
      "source": [
        "### Task 3: Agent Evaluation\n",
        "\n",
        "Create a 5x5 grid with 7 obstacles and an instance of the `Agent` class. Simulate the agent's navigation and display the grid at each step to visualize the agent's progress. Use a `for` loop to keep the agent moving until it reaches the target or has taken 100 moves."
      ],
      "metadata": {
        "id": "C1nrzO7GF1PN"
      }
    },
    {
      "cell_type": "code",
      "source": [
        "grid = create_environment(5, 5, 7)\n",
        "agent = Agent(grid)\n",
        "agent.path.append(agent.position)\n",
        "agent.visited.append(agent.position)\n",
        "\n",
        "print('Start:')\n",
        "show_grid(grid)\n",
        "for x in range(100):\n",
        "    agent.take_action()\n",
        "    print()\n",
        "    print('Move: ', x+1)\n",
        "    show_grid(grid)\n",
        "    if agent.position == agent.target:\n",
        "        print()\n",
        "        print('Target reached')\n",
        "        break\n",
        "if agent.position != agent.target:\n",
        "    print()\n",
        "    print('Target not reached')"
      ],
      "metadata": {
        "id": "QeeRr0eNGx41",
        "colab": {
          "base_uri": "https://localhost:8080/"
        },
        "outputId": "87c8e12f-08e4-4418-dfda-516f150c42dd"
      },
      "execution_count": 77,
      "outputs": [
        {
          "output_type": "stream",
          "name": "stdout",
          "text": [
            "Start:\n",
            "A X - X - \n",
            "- X - - - \n",
            "- - - - X \n",
            "X X X - - \n",
            "- - - - T \n",
            "\n",
            "Move:  1\n",
            "- X - X - \n",
            "A X - - - \n",
            "- - - - X \n",
            "X X X - - \n",
            "- - - - T \n",
            "\n",
            "Move:  2\n",
            "- X - X - \n",
            "- X - - - \n",
            "A - - - X \n",
            "X X X - - \n",
            "- - - - T \n",
            "\n",
            "Move:  3\n",
            "- X - X - \n",
            "- X - - - \n",
            "- A - - X \n",
            "X X X - - \n",
            "- - - - T \n",
            "\n",
            "Move:  4\n",
            "- X - X - \n",
            "- X - - - \n",
            "- - A - X \n",
            "X X X - - \n",
            "- - - - T \n",
            "\n",
            "Move:  5\n",
            "- X - X - \n",
            "- X - - - \n",
            "- - - A X \n",
            "X X X - - \n",
            "- - - - T \n",
            "\n",
            "Move:  6\n",
            "- X - X - \n",
            "- X - - - \n",
            "- - - - X \n",
            "X X X A - \n",
            "- - - - T \n",
            "\n",
            "Move:  7\n",
            "- X - X - \n",
            "- X - - - \n",
            "- - - - X \n",
            "X X X - A \n",
            "- - - - T \n",
            "\n",
            "Move:  8\n",
            "- X - X - \n",
            "- X - - - \n",
            "- - - - X \n",
            "X X X - - \n",
            "- - - - A \n",
            "\n",
            "Target reached\n"
          ]
        }
      ]
    }
  ]
}