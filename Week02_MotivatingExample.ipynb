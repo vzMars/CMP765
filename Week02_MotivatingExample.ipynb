{
  "nbformat": 4,
  "nbformat_minor": 0,
  "metadata": {
    "colab": {
      "provenance": [],
      "gpuType": "T4",
      "include_colab_link": true
    },
    "kernelspec": {
      "name": "python3",
      "display_name": "Python 3"
    },
    "language_info": {
      "name": "python"
    },
    "accelerator": "GPU"
  },
  "cells": [
    {
      "cell_type": "markdown",
      "metadata": {
        "id": "view-in-github",
        "colab_type": "text"
      },
      "source": [
        "<a href=\"https://colab.research.google.com/github/vzMars/CMP765/blob/main/Week02_MotivatingExample.ipynb\" target=\"_parent\"><img src=\"https://colab.research.google.com/assets/colab-badge.svg\" alt=\"Open In Colab\"/></a>"
      ]
    },
    {
      "cell_type": "markdown",
      "source": [
        "# Week 2\n",
        "# A Motivating Example of Deep Learning\n",
        "- An introduction to artificial neural networks\n",
        "- Getting to know PyTorch\n",
        "- A deep learning project on recognizing hand-written digits.\n",
        "\n",
        "*Readings: Deep Learning with PyTorch, Chapter 1.*"
      ],
      "metadata": {
        "id": "StGxUo9aoGXG"
      }
    },
    {
      "cell_type": "markdown",
      "source": [
        "## 1. A Basic Neural Network Model\n",
        "\n",
        "At its core, the deep learning system is a rather complex mathematical function that maps inputs to outputs.\n",
        "\n",
        "<img src=\"https://github.com/ch00226855/temp/blob/e4b3b9404122e50dd367f859b43a6dc984b59cec/.ipynb_checkpoints/Screenshot%20from%202024-02-05%2009-20-01.png?raw=true\" width=300>\n",
        "\n",
        "Deep Learning is supported by a type of machine learning models called **artificial neural network**. An artificial neural network consists of many **artifical neurons**.\n",
        "\n",
        "A typical artificial neurons is created with the following components:\n",
        "- **Input channels**: where the neuron gets information\n",
        "- **Weight parameters**: Each input value will be multiplied by a corresponding weight parameter before being considered by the activation function.\n",
        "- **Biase parameter**: a constant value added to the weighted sum of inputs.\n",
        "- **Activation function**: a non-linear function that generates the output of a neuron.\n",
        "\n",
        "<img src=\"https://www.simplilearn.com/ice9/free_resources_article_thumb/Perceptron/general-diagram-of-perceptron-for-supervised-learning_4.jpg\" height=300>\n",
        "\n",
        "If we create a network with at least three layers of artifical neurons, this machine learning model is called a **deep neural network**.\n",
        "\n",
        "<img src=\"https://qph.cf2.quoracdn.net/main-qimg-a1efd90fe8d2146d2dcaa629385056ff\" width=300>\n",
        "\n",
        "For each layer:\n",
        "- The weight parameters are organized as a **weight matrix**.\n",
        "- The biase parameters are organized as a **biase vector**.\n",
        "- The output values are also organized as a vector.\n",
        "\n",
        "To implements these computations, the computer often need to work with arrays of dimension 2, 3, or even higher. These arrays are called **tensors**. **PyTorch** is a framework that supports fast tensor computations.\n",
        "\n",
        "<img src=\"https://miro.medium.com/v2/resize:fit:500/1*MQIAAntN5tYgKEDNTcpZmg.png\" width=300>"
      ],
      "metadata": {
        "id": "ofAcqoXGoSAy"
      }
    },
    {
      "cell_type": "markdown",
      "source": [
        "## 2. A Deep Learning Playground\n",
        "\n",
        "Before creating a deep learning model on our own, let's gain some intuition of how it works from the [deep learning playground](https://playground.tensorflow.org/\n",
        ")\n",
        "\n",
        "<img src=\"https://human-centered.ai/wordpress/wp-content/uploads/2016/04/Deep-learning.png\" width=200>"
      ],
      "metadata": {
        "id": "zoLrDraFvc1L"
      }
    },
    {
      "cell_type": "markdown",
      "source": [
        "## 3. PyTorch for Deep Learning\n",
        "\n",
        "**PyTorch** is a Python library that facilitaes building deep learning projects.\n",
        "- PyTorch is easy to use. One can test and manipulate various model components before the entire model is built.\n",
        "- PyTorch is fast. Most of PyTorch is written in C++ and CUDA. It supports fast tensor computations, which is the most time-consuming part of a deep learning project.\n",
        "- PyTorch can accelerate computation using graphical processing unites (GPUs). GPUs can do computation 50x faster than CPUs with a similar price."
      ],
      "metadata": {
        "id": "gCXk1Nh5pHBu"
      }
    },
    {
      "cell_type": "code",
      "source": [
        "import torch\n",
        "torch.__version__"
      ],
      "metadata": {
        "id": "vJGomDv5oSDb"
      },
      "execution_count": null,
      "outputs": []
    },
    {
      "cell_type": "code",
      "source": [
        "# GPU can be turned on in \"Edit\" -> \"Notebook Settings\"\n",
        "torch.cuda.is_available()"
      ],
      "metadata": {
        "id": "HFowwdF21iV2"
      },
      "execution_count": null,
      "outputs": []
    },
    {
      "cell_type": "code",
      "source": [
        "# Create a tensor directly from data.\n",
        "data = [[1, 2, 3],\n",
        "        [4, 5, 6],\n",
        "        [7, 8, 9.12]]\n",
        "data_tensor = torch.tensor(data)\n",
        "print(data_tensor)"
      ],
      "metadata": {
        "id": "G4jbO7pc1jND"
      },
      "execution_count": null,
      "outputs": []
    },
    {
      "cell_type": "code",
      "source": [
        "# Attributes of a tensor\n",
        "print(\"Shape of tensor:\", data_tensor.shape)\n",
        "print(\"Datatype of tensor:\", data_tensor.dtype)\n",
        "print(\"Device the tensor is stored on:\", data_tensor.device)"
      ],
      "metadata": {
        "id": "C3d9A_9X2BDQ"
      },
      "execution_count": null,
      "outputs": []
    },
    {
      "cell_type": "code",
      "source": [
        "# Matrix addition and multiplication\n",
        "# data_tensor + data_tensor\n",
        "# data_tensor * data_tensor\n",
        "data_tensor @ data_tensor"
      ],
      "metadata": {
        "id": "rGHAcxEG2TGS"
      },
      "execution_count": null,
      "outputs": []
    },
    {
      "cell_type": "markdown",
      "source": [
        "## 4. MNIST Image Classification\n",
        "\n",
        "The MNIST database (Modified National Institute of Standards and Technology database) is a large collection of handwritten digits. It has a training set of 60,000 examples, and a test set of 10,000 examples.\n",
        "\n",
        "<img src=\"https://upload.wikimedia.org/wikipedia/commons/f/f7/MnistExamplesModified.png\" width=300>\n",
        "\n",
        "Let's create a deep neural network model that can be used to identify these images.\n",
        "\n",
        "*Reference*: [PyTorch quickstart](https://pytorch.org/tutorials/beginner/basics/quickstart_tutorial.html)"
      ],
      "metadata": {
        "id": "C_WYgmO-oSGH"
      }
    },
    {
      "cell_type": "code",
      "source": [
        "import torch\n",
        "from torch import nn\n",
        "from torch.utils.data import DataLoader\n",
        "from torchvision import datasets\n",
        "from torchvision.transforms import ToTensor"
      ],
      "metadata": {
        "id": "AgafWmxGoSIr"
      },
      "execution_count": null,
      "outputs": []
    },
    {
      "cell_type": "markdown",
      "source": [
        "### Loading Data"
      ],
      "metadata": {
        "id": "clCvUNNC3Zdu"
      }
    },
    {
      "cell_type": "code",
      "source": [
        "# Download training data from open datasets.\n",
        "training_data = datasets.MNIST(\n",
        "    root=\"data\",\n",
        "    train=True,\n",
        "    download=True,\n",
        "    transform=ToTensor(),\n",
        ")\n",
        "\n",
        "# Download test data from open datasets.\n",
        "test_data = datasets.MNIST(\n",
        "    root=\"data\",\n",
        "    train=False,\n",
        "    download=True,\n",
        "    transform=ToTensor(),\n",
        ")"
      ],
      "metadata": {
        "id": "dSr32e-LoSLd"
      },
      "execution_count": null,
      "outputs": []
    },
    {
      "cell_type": "code",
      "source": [
        "training_data.data.shape\n",
        "# training_data.data.dtype\n",
        "# training_data.data.device\n",
        "# training_data.data[0]\n",
        "# training_data.data[1, :, range(0, 28, 2)]"
      ],
      "metadata": {
        "colab": {
          "base_uri": "https://localhost:8080/"
        },
        "id": "ahqmpsO0fkAH",
        "outputId": "864ec840-df9b-4e47-eb2f-0b815e9c3f5b"
      },
      "execution_count": null,
      "outputs": [
        {
          "output_type": "execute_result",
          "data": {
            "text/plain": [
              "torch.Size([60000, 28, 28])"
            ]
          },
          "metadata": {},
          "execution_count": 6
        }
      ]
    },
    {
      "cell_type": "code",
      "source": [
        "print(\"Total number of values contained in the training data set:\", 60000 * 28 * 28)"
      ],
      "metadata": {
        "colab": {
          "base_uri": "https://localhost:8080/"
        },
        "id": "P5p4xR1sj7mn",
        "outputId": "7163bec3-28fc-4ef4-873d-58752d26d392"
      },
      "execution_count": null,
      "outputs": [
        {
          "output_type": "stream",
          "name": "stdout",
          "text": [
            "Total number of values contained in the training data set: 47040000\n"
          ]
        }
      ]
    },
    {
      "cell_type": "code",
      "source": [
        "# training_data.targets.shape\n",
        "training_data.targets[0:2]"
      ],
      "metadata": {
        "colab": {
          "base_uri": "https://localhost:8080/"
        },
        "id": "y4o7t7Fxi9Vo",
        "outputId": "d5b202aa-9141-483c-96fb-bb0f1da98fc4"
      },
      "execution_count": null,
      "outputs": [
        {
          "output_type": "execute_result",
          "data": {
            "text/plain": [
              "tensor([5, 0])"
            ]
          },
          "metadata": {},
          "execution_count": 8
        }
      ]
    },
    {
      "cell_type": "code",
      "source": [
        "batch_size = 64\n",
        "\n",
        "# Create data loaders.\n",
        "train_dataloader = DataLoader(training_data, batch_size=batch_size)\n",
        "test_dataloader = DataLoader(test_data, batch_size=batch_size)\n",
        "\n",
        "for X, y in test_dataloader:\n",
        "    print(f\"Shape of X [N, C, H, W]: {X.shape}\")\n",
        "    print(f\"Shape of y: {y.shape} {y.dtype}\")\n",
        "    break"
      ],
      "metadata": {
        "id": "ayjfJxoXoSOD",
        "colab": {
          "base_uri": "https://localhost:8080/"
        },
        "outputId": "0cfc6d00-1712-4e19-c746-5f9679bca962"
      },
      "execution_count": null,
      "outputs": [
        {
          "output_type": "stream",
          "name": "stdout",
          "text": [
            "Shape of X [N, C, H, W]: torch.Size([64, 1, 28, 28])\n",
            "Shape of y: torch.Size([64]) torch.int64\n"
          ]
        }
      ]
    },
    {
      "cell_type": "markdown",
      "source": [
        "### Creating Models"
      ],
      "metadata": {
        "id": "F2LOJUcT3S0E"
      }
    },
    {
      "cell_type": "code",
      "source": [
        "# Get cpu, gpu or mps device for training.\n",
        "device = (\n",
        "    \"cuda\"\n",
        "    if torch.cuda.is_available()\n",
        "    else \"mps\"\n",
        "    if torch.backends.mps.is_available()\n",
        "    else \"cpu\"\n",
        ")\n",
        "print(f\"Using {device} device\")"
      ],
      "metadata": {
        "colab": {
          "base_uri": "https://localhost:8080/"
        },
        "id": "NanmsstFlitx",
        "outputId": "88a48d2f-fefe-41ca-cce9-942eabc25b27"
      },
      "execution_count": null,
      "outputs": [
        {
          "output_type": "stream",
          "name": "stdout",
          "text": [
            "Using cuda device\n"
          ]
        }
      ]
    },
    {
      "cell_type": "code",
      "source": [
        "# Define model\n",
        "class NeuralNetwork(nn.Module): # Build the new class by extending the Module class\n",
        "    def __init__(self):\n",
        "        super().__init__()\n",
        "        self.flatten = nn.Flatten() # Creates a layer to flatten a 2D array\n",
        "        self.linear_relu_stack = nn.Sequential(\n",
        "            nn.Linear(28*28, 512), # This is one dense layer\n",
        "            nn.ReLU(),\n",
        "            nn.Linear(512, 512),   # Another dense layer\n",
        "            nn.ReLU(),\n",
        "            nn.Linear(512, 10)     # The output layer.\n",
        "        )                          # It has only 10 nodes because we need 10\n",
        "                                   # probabilities for the prediction.\n",
        "\n",
        "    def forward(self, x):\n",
        "        x = self.flatten(x)\n",
        "        logits = self.linear_relu_stack(x)\n",
        "        return logits\n",
        "\n",
        "model = NeuralNetwork().to(device)\n",
        "print(model)"
      ],
      "metadata": {
        "id": "hEhy2RbC3WQh",
        "colab": {
          "base_uri": "https://localhost:8080/"
        },
        "outputId": "3cc11cc1-e4bb-4b0a-db9c-fc9d357f6eae"
      },
      "execution_count": null,
      "outputs": [
        {
          "output_type": "stream",
          "name": "stdout",
          "text": [
            "NeuralNetwork(\n",
            "  (flatten): Flatten(start_dim=1, end_dim=-1)\n",
            "  (linear_relu_stack): Sequential(\n",
            "    (0): Linear(in_features=784, out_features=512, bias=True)\n",
            "    (1): ReLU()\n",
            "    (2): Linear(in_features=512, out_features=512, bias=True)\n",
            "    (3): ReLU()\n",
            "    (4): Linear(in_features=512, out_features=10, bias=True)\n",
            "  )\n",
            ")\n"
          ]
        }
      ]
    },
    {
      "cell_type": "markdown",
      "source": [
        "### Optimizing Model Parameters\n",
        "\n",
        "To train a model, we need a loss function and an optimizer.\n",
        "- The **loss function** is to evaluate the current performance of the model on the training data. Smaller losses indicate better performances.\n",
        "- The **optimizer** suggests parameter modifications so that the model's performance may get improved."
      ],
      "metadata": {
        "id": "SYtksuru3Wmz"
      }
    },
    {
      "cell_type": "code",
      "source": [
        "loss_fn = nn.CrossEntropyLoss()\n",
        "optimizer = torch.optim.SGD(model.parameters(), lr=1e-3)"
      ],
      "metadata": {
        "id": "R3fTNuCl3zm9"
      },
      "execution_count": null,
      "outputs": []
    },
    {
      "cell_type": "code",
      "source": [
        "def train(dataloader, model, loss_fn, optimizer):\n",
        "    size = len(dataloader.dataset)\n",
        "    model.train()\n",
        "    for batch, (X, y) in enumerate(dataloader):\n",
        "        X, y = X.to(device), y.to(device)\n",
        "\n",
        "        # Compute prediction error\n",
        "        pred = model(X)\n",
        "        loss = loss_fn(pred, y)\n",
        "\n",
        "        # Backpropagation\n",
        "        loss.backward()\n",
        "        optimizer.step()\n",
        "        optimizer.zero_grad()\n",
        "\n",
        "        if batch % 100 == 0:\n",
        "            loss, current = loss.item(), (batch + 1) * len(X)\n",
        "            print(f\"loss: {loss:>7f}  [{current:>5d}/{size:>5d}]\")"
      ],
      "metadata": {
        "id": "VOe_Wsgc313j"
      },
      "execution_count": null,
      "outputs": []
    },
    {
      "cell_type": "markdown",
      "source": [
        "We also check the model’s performance against another dataset (the test dataset) to ensure it is learning."
      ],
      "metadata": {
        "id": "3QR9zVYg4E8v"
      }
    },
    {
      "cell_type": "code",
      "source": [
        "def test(dataloader, model, loss_fn):\n",
        "    size = len(dataloader.dataset)\n",
        "    num_batches = len(dataloader)\n",
        "    model.eval()\n",
        "    test_loss, correct = 0, 0\n",
        "    with torch.no_grad():\n",
        "        for X, y in dataloader:\n",
        "            X, y = X.to(device), y.to(device)\n",
        "            pred = model(X)\n",
        "            test_loss += loss_fn(pred, y).item()\n",
        "            correct += (pred.argmax(1) == y).type(torch.float).sum().item()\n",
        "    test_loss /= num_batches\n",
        "    correct /= size\n",
        "    print(f\"Test Error: \\n Accuracy: {(100*correct):>0.1f}%, Avg loss: {test_loss:>8f} \\n\")"
      ],
      "metadata": {
        "id": "CmrxyD2933X5"
      },
      "execution_count": null,
      "outputs": []
    },
    {
      "cell_type": "code",
      "source": [
        "epochs = 15\n",
        "for t in range(epochs):\n",
        "    print(f\"Epoch {t+1}\\n-------------------------------\")\n",
        "    train(train_dataloader, model, loss_fn, optimizer)\n",
        "    test(test_dataloader, model, loss_fn)\n",
        "print(\"Done!\")"
      ],
      "metadata": {
        "id": "aP2kLHhi4Lgo",
        "colab": {
          "base_uri": "https://localhost:8080/"
        },
        "outputId": "09de8b44-2a6e-4cea-82ab-e2da7e7adf86"
      },
      "execution_count": null,
      "outputs": [
        {
          "output_type": "stream",
          "name": "stdout",
          "text": [
            "Epoch 1\n",
            "-------------------------------\n",
            "loss: 1.609651  [   64/60000]\n",
            "loss: 1.515071  [ 6464/60000]\n",
            "loss: 1.624050  [12864/60000]\n",
            "loss: 1.417194  [19264/60000]\n",
            "loss: 1.437380  [25664/60000]\n",
            "loss: 1.410792  [32064/60000]\n",
            "loss: 1.337099  [38464/60000]\n",
            "loss: 1.483137  [44864/60000]\n",
            "loss: 1.338112  [51264/60000]\n",
            "loss: 1.289636  [57664/60000]\n",
            "Test Error: \n",
            " Accuracy: 76.9%, Avg loss: 1.261710 \n",
            "\n",
            "Epoch 2\n",
            "-------------------------------\n",
            "loss: 1.313123  [   64/60000]\n",
            "loss: 1.190597  [ 6464/60000]\n",
            "loss: 1.304360  [12864/60000]\n",
            "loss: 1.121380  [19264/60000]\n",
            "loss: 1.130526  [25664/60000]\n",
            "loss: 1.104056  [32064/60000]\n",
            "loss: 1.045699  [38464/60000]\n",
            "loss: 1.204376  [44864/60000]\n",
            "loss: 1.087697  [51264/60000]\n",
            "loss: 1.034428  [57664/60000]\n",
            "Test Error: \n",
            " Accuracy: 79.8%, Avg loss: 1.007532 \n",
            "\n",
            "Epoch 3\n",
            "-------------------------------\n",
            "loss: 1.083172  [   64/60000]\n",
            "loss: 0.950049  [ 6464/60000]\n",
            "loss: 1.050065  [12864/60000]\n",
            "loss: 0.912512  [19264/60000]\n",
            "loss: 0.917288  [25664/60000]\n",
            "loss: 0.889071  [32064/60000]\n",
            "loss: 0.844168  [38464/60000]\n",
            "loss: 1.000370  [44864/60000]\n",
            "loss: 0.918895  [51264/60000]\n",
            "loss: 0.866243  [57664/60000]\n",
            "Test Error: \n",
            " Accuracy: 81.7%, Avg loss: 0.837856 \n",
            "\n",
            "Epoch 4\n",
            "-------------------------------\n",
            "loss: 0.926405  [   64/60000]\n",
            "loss: 0.791398  [ 6464/60000]\n",
            "loss: 0.875135  [12864/60000]\n",
            "loss: 0.774899  [19264/60000]\n",
            "loss: 0.776556  [25664/60000]\n",
            "loss: 0.748527  [32064/60000]\n",
            "loss: 0.708775  [38464/60000]\n",
            "loss: 0.860792  [44864/60000]\n",
            "loss: 0.805283  [51264/60000]\n",
            "loss: 0.757743  [57664/60000]\n",
            "Test Error: \n",
            " Accuracy: 83.4%, Avg loss: 0.723867 \n",
            "\n",
            "Epoch 5\n",
            "-------------------------------\n",
            "loss: 0.818254  [   64/60000]\n",
            "loss: 0.682880  [ 6464/60000]\n",
            "loss: 0.753840  [12864/60000]\n",
            "loss: 0.682533  [19264/60000]\n",
            "loss: 0.678421  [25664/60000]\n",
            "loss: 0.654333  [32064/60000]\n",
            "loss: 0.612597  [38464/60000]\n",
            "loss: 0.764253  [44864/60000]\n",
            "loss: 0.724224  [51264/60000]\n",
            "loss: 0.684672  [57664/60000]\n",
            "Test Error: \n",
            " Accuracy: 84.5%, Avg loss: 0.643654 \n",
            "\n",
            "Epoch 6\n",
            "-------------------------------\n",
            "loss: 0.740075  [   64/60000]\n",
            "loss: 0.603905  [ 6464/60000]\n",
            "loss: 0.666103  [12864/60000]\n",
            "loss: 0.618068  [19264/60000]\n",
            "loss: 0.606345  [25664/60000]\n",
            "loss: 0.589004  [32064/60000]\n",
            "loss: 0.541287  [38464/60000]\n",
            "loss: 0.695622  [44864/60000]\n",
            "loss: 0.663198  [51264/60000]\n",
            "loss: 0.633453  [57664/60000]\n",
            "Test Error: \n",
            " Accuracy: 85.6%, Avg loss: 0.584811 \n",
            "\n",
            "Epoch 7\n",
            "-------------------------------\n",
            "loss: 0.681062  [   64/60000]\n",
            "loss: 0.543780  [ 6464/60000]\n",
            "loss: 0.600244  [12864/60000]\n",
            "loss: 0.571312  [19264/60000]\n",
            "loss: 0.551278  [25664/60000]\n",
            "loss: 0.542480  [32064/60000]\n",
            "loss: 0.486820  [38464/60000]\n",
            "loss: 0.645569  [44864/60000]\n",
            "loss: 0.615567  [51264/60000]\n",
            "loss: 0.596252  [57664/60000]\n",
            "Test Error: \n",
            " Accuracy: 86.4%, Avg loss: 0.540166 \n",
            "\n",
            "Epoch 8\n",
            "-------------------------------\n",
            "loss: 0.634651  [   64/60000]\n",
            "loss: 0.496761  [ 6464/60000]\n",
            "loss: 0.549223  [12864/60000]\n",
            "loss: 0.536011  [19264/60000]\n",
            "loss: 0.507891  [25664/60000]\n",
            "loss: 0.508334  [32064/60000]\n",
            "loss: 0.444420  [38464/60000]\n",
            "loss: 0.608057  [44864/60000]\n",
            "loss: 0.577700  [51264/60000]\n",
            "loss: 0.568361  [57664/60000]\n",
            "Test Error: \n",
            " Accuracy: 87.0%, Avg loss: 0.505344 \n",
            "\n",
            "Epoch 9\n",
            "-------------------------------\n",
            "loss: 0.596800  [   64/60000]\n",
            "loss: 0.459313  [ 6464/60000]\n",
            "loss: 0.508515  [12864/60000]\n",
            "loss: 0.508607  [19264/60000]\n",
            "loss: 0.472846  [25664/60000]\n",
            "loss: 0.482666  [32064/60000]\n",
            "loss: 0.410765  [38464/60000]\n",
            "loss: 0.579026  [44864/60000]\n",
            "loss: 0.547106  [51264/60000]\n",
            "loss: 0.546938  [57664/60000]\n",
            "Test Error: \n",
            " Accuracy: 87.6%, Avg loss: 0.477515 \n",
            "\n",
            "Epoch 10\n",
            "-------------------------------\n",
            "loss: 0.565069  [   64/60000]\n",
            "loss: 0.429056  [ 6464/60000]\n",
            "loss: 0.475169  [12864/60000]\n",
            "loss: 0.486760  [19264/60000]\n",
            "loss: 0.444039  [25664/60000]\n",
            "loss: 0.462806  [32064/60000]\n",
            "loss: 0.383530  [38464/60000]\n",
            "loss: 0.555880  [44864/60000]\n",
            "loss: 0.521976  [51264/60000]\n",
            "loss: 0.530196  [57664/60000]\n",
            "Test Error: \n",
            " Accuracy: 88.0%, Avg loss: 0.454825 \n",
            "\n",
            "Epoch 11\n",
            "-------------------------------\n",
            "loss: 0.537988  [   64/60000]\n",
            "loss: 0.404360  [ 6464/60000]\n",
            "loss: 0.447240  [12864/60000]\n",
            "loss: 0.469011  [19264/60000]\n",
            "loss: 0.419967  [25664/60000]\n",
            "loss: 0.447000  [32064/60000]\n",
            "loss: 0.361146  [38464/60000]\n",
            "loss: 0.536811  [44864/60000]\n",
            "loss: 0.501032  [51264/60000]\n",
            "loss: 0.516802  [57664/60000]\n",
            "Test Error: \n",
            " Accuracy: 88.3%, Avg loss: 0.436014 \n",
            "\n",
            "Epoch 12\n",
            "-------------------------------\n",
            "loss: 0.514569  [   64/60000]\n",
            "loss: 0.384030  [ 6464/60000]\n",
            "loss: 0.423381  [12864/60000]\n",
            "loss: 0.454317  [19264/60000]\n",
            "loss: 0.399527  [25664/60000]\n",
            "loss: 0.434130  [32064/60000]\n",
            "loss: 0.342430  [38464/60000]\n",
            "loss: 0.520792  [44864/60000]\n",
            "loss: 0.483320  [51264/60000]\n",
            "loss: 0.505807  [57664/60000]\n",
            "Test Error: \n",
            " Accuracy: 88.7%, Avg loss: 0.420190 \n",
            "\n",
            "Epoch 13\n",
            "-------------------------------\n",
            "loss: 0.493969  [   64/60000]\n",
            "loss: 0.367127  [ 6464/60000]\n",
            "loss: 0.402655  [12864/60000]\n",
            "loss: 0.441957  [19264/60000]\n",
            "loss: 0.381991  [25664/60000]\n",
            "loss: 0.423412  [32064/60000]\n",
            "loss: 0.326521  [38464/60000]\n",
            "loss: 0.507035  [44864/60000]\n",
            "loss: 0.468158  [51264/60000]\n",
            "loss: 0.496668  [57664/60000]\n",
            "Test Error: \n",
            " Accuracy: 89.0%, Avg loss: 0.406709 \n",
            "\n",
            "Epoch 14\n",
            "-------------------------------\n",
            "loss: 0.475611  [   64/60000]\n",
            "loss: 0.353010  [ 6464/60000]\n",
            "loss: 0.384432  [12864/60000]\n",
            "loss: 0.431373  [19264/60000]\n",
            "loss: 0.366802  [25664/60000]\n",
            "loss: 0.414263  [32064/60000]\n",
            "loss: 0.312848  [38464/60000]\n",
            "loss: 0.494982  [44864/60000]\n",
            "loss: 0.455037  [51264/60000]\n",
            "loss: 0.489010  [57664/60000]\n",
            "Test Error: \n",
            " Accuracy: 89.3%, Avg loss: 0.395097 \n",
            "\n",
            "Epoch 15\n",
            "-------------------------------\n",
            "loss: 0.459115  [   64/60000]\n",
            "loss: 0.341121  [ 6464/60000]\n",
            "loss: 0.368246  [12864/60000]\n",
            "loss: 0.422217  [19264/60000]\n",
            "loss: 0.353512  [25664/60000]\n",
            "loss: 0.406260  [32064/60000]\n",
            "loss: 0.300983  [38464/60000]\n",
            "loss: 0.484298  [44864/60000]\n",
            "loss: 0.443494  [51264/60000]\n",
            "loss: 0.482421  [57664/60000]\n",
            "Test Error: \n",
            " Accuracy: 89.4%, Avg loss: 0.384984 \n",
            "\n",
            "Done!\n"
          ]
        }
      ]
    },
    {
      "cell_type": "code",
      "source": [
        "# Exercise: Select 3 images from the test set and examine the model predictions.\n",
        "\n",
        "model.eval() # Turn the model to evaluation model"
      ],
      "metadata": {
        "id": "U-yZ_rve4Npm"
      },
      "execution_count": null,
      "outputs": []
    },
    {
      "cell_type": "code",
      "source": [
        "# Select three random images from the test set\n",
        "# selected_indices = [100, 200, 300]  # Change these indices as needed\n",
        "# selected_images = [test_data[i][0] for i in selected_indices]\n",
        "# selected_labels = [test_data[i][1] for i in selected_indices]"
      ],
      "metadata": {
        "id": "Yob6FC5l4kri"
      },
      "execution_count": null,
      "outputs": []
    },
    {
      "cell_type": "code",
      "source": [
        "for X, y in test_dataloader:\n",
        "    X = X.to(device)\n",
        "    y = y.to(device)\n",
        "\n",
        "    selected_indices = [15, 25, 35]\n",
        "    selected_images = X[selected_indices, :, :, :]\n",
        "    selected_labels = y[selected_indices]\n",
        "    # print(selected_images)\n",
        "    # print(selected_labels)\n",
        "    break"
      ],
      "metadata": {
        "id": "sxFBMl6Ykm4C"
      },
      "execution_count": null,
      "outputs": []
    },
    {
      "cell_type": "code",
      "source": [
        "import matplotlib.pyplot as plt\n",
        "with torch.no_grad():\n",
        "    for i, image in enumerate(selected_images):\n",
        "        image = image.unsqueeze(0)  # Add batch dimension\n",
        "        output = model(image)\n",
        "        predicted_label = output.argmax(dim=1).item()\n",
        "\n",
        "        plt.imshow(image.cpu().squeeze().numpy(), cmap='gray')\n",
        "        plt.title(f\"Predicted: {predicted_label}, Actual: {selected_labels[i]}\")\n",
        "        plt.show()\n"
      ],
      "metadata": {
        "colab": {
          "base_uri": "https://localhost:8080/",
          "height": 1000
        },
        "id": "9N1Y6DQUjWt3",
        "outputId": "9ee795ca-a2d3-4722-b66f-03fe140e436e"
      },
      "execution_count": null,
      "outputs": [
        {
          "output_type": "display_data",
          "data": {
            "text/plain": [
              "<Figure size 640x480 with 1 Axes>"
            ],
            "image/png": "[encoded data removed]"
          },
          "metadata": {}
        },
        {
          "output_type": "display_data",
          "data": {
            "text/plain": [
              "<Figure size 640x480 with 1 Axes>"
            ],
            "image/png": "[encoded data removed]"
          },
          "metadata": {}
        },
        {
          "output_type": "display_data",
          "data": {
            "text/plain": [
              "<Figure size 640x480 with 1 Axes>"
            ],
            "image/png": "[encoded data removed]"
          },
          "metadata": {}
        }
      ]
    },
    {
      "cell_type": "markdown",
      "source": [
        "## Exercise: Recreate the Neural Network"
      ],
      "metadata": {
        "id": "2zCDVZ-Al9uT"
      }
    },
    {
      "cell_type": "code",
      "source": [
        "train_dataloader, test_dataloader"
      ],
      "metadata": {
        "colab": {
          "base_uri": "https://localhost:8080/"
        },
        "id": "tO07wKEZqaP0",
        "outputId": "37597303-044c-4008-b288-4d509afa4a83"
      },
      "execution_count": null,
      "outputs": [
        {
          "output_type": "execute_result",
          "data": {
            "text/plain": [
              "(<torch.utils.data.dataloader.DataLoader at 0x7e4ece928400>,\n",
              " <torch.utils.data.dataloader.DataLoader at 0x7e4ece9284f0>)"
            ]
          },
          "metadata": {},
          "execution_count": 45
        }
      ]
    },
    {
      "cell_type": "code",
      "source": [
        "class OurModel(nn.Module):\n",
        "\n",
        "    def __init__(self):\n",
        "        super().init()\n",
        "        self.layer1 = nn.Flatten()\n",
        "        self.layer2 = nn.Linear(28*28, 512)\n",
        "        self.layer2_5 = nn.ReLU()\n",
        "        self.layer3 = nn.Linear(512, 512)\n",
        "        self.layer3_5 = nn.ReLU()\n",
        "        self.layer4 = nn.Linear(512, 10)\n",
        "\n",
        "    def forward(self, img):\n",
        "        x1 = self.layer1(img)\n",
        "        x2 = self.layer2_5(self.layer2(x1))\n",
        "        x3 = self.layer3_5(self.layer3(x2))\n",
        "        output = self.layer4(x3)\n",
        "        return output"
      ],
      "metadata": {
        "id": "W8OcXC6tqdzM"
      },
      "execution_count": null,
      "outputs": []
    },
    {
      "cell_type": "code",
      "source": [],
      "metadata": {
        "id": "rz1ao_hKtPzg"
      },
      "execution_count": null,
      "outputs": []
    }
  ]
}